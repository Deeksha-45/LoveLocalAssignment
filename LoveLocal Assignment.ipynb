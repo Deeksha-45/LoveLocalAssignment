{
 "cells": [
  {
   "cell_type": "markdown",
   "id": "1d978dec",
   "metadata": {},
   "source": [
    "QUESTION 1:"
   ]
  },
  {
   "cell_type": "markdown",
   "id": "d35f80ca",
   "metadata": {},
   "source": [
    "Easy 1\n",
    "\n",
    "Given a string s consisting of words and spaces, return the length of the last word in the string.\n",
    "A word is a maximal \n",
    "substring consisting of non-space characters only.\n",
    " \n",
    "Example 1:\n",
    "Input: s = \"Hello World\"\n",
    "Output: 5\n",
    "Explanation: The last word is \"World\" with length 5.\n",
    "    \n",
    "Example 2:\n",
    "Input: s = \"fly me   to   the moon\"\n",
    "Output: 4\n",
    "Explanation: The last word is \"moon\" with length 4.\n",
    "    \n",
    "Example 3:\n",
    "Input: s = \"luffy is still joyboy\"\n",
    "Output: 6\n",
    "Explanation: The last word is \"joyboy\" with length 6.\n",
    " \n",
    "Constraints:\n",
    "--> 1 <= s.length <= 104\n",
    "--> s consists of only English letters and spaces ' '.\n",
    "--> There will be at least one word in s."
   ]
  },
  {
   "cell_type": "markdown",
   "id": "0010d6fb",
   "metadata": {},
   "source": [
    "PYTHON CODE:"
   ]
  },
  {
   "cell_type": "code",
   "execution_count": null,
   "id": "82d3a64b",
   "metadata": {},
   "outputs": [],
   "source": [
    "s=input()\n",
    "k= s.split(\" \")\n",
    "print(len(k[-1]))"
   ]
  },
  {
   "cell_type": "markdown",
   "id": "a987c31e",
   "metadata": {},
   "source": [
    "ALGORITHM:"
   ]
  },
  {
   "cell_type": "markdown",
   "id": "e71f19db",
   "metadata": {},
   "source": [
    "1. Accept a string input from the user and store it in variable s.\n",
    "2. Split the input string s into a list of words using space as the delimiter and store it in variable k.\n",
    "3. Retrieve the last word in the list k using k[-1].\n",
    "4. Calculate the length of the last word using the len() function.\n",
    "5. Print the length of the last word as the output."
   ]
  },
  {
   "cell_type": "markdown",
   "id": "e7d6b0fb",
   "metadata": {},
   "source": [
    "LOGIC:"
   ]
  },
  {
   "cell_type": "markdown",
   "id": "8f954c7e",
   "metadata": {},
   "source": [
    "1. Input:                     The user provides a string input.\n",
    "2. Splitting:                 The split(\" \") function divides the string into a list of words wherever it encounters a space.                                 For instance, if the input is \"Hello there, how are you?\", it'll be split into                                                      [\"Hello\",\"there,\", \"how\", \"are\", \"you?\"].\n",
    "3. Identifying the Last Word: k[-1] refers to the last element in the list k, which is the last word in the original string.\n",
    "4. Measuring Length:          len(k[-1]) calculates the length  of the last word in the input string.\n",
    "5. Display :                  The length of the last word is then printed as the output."
   ]
  },
  {
   "cell_type": "markdown",
   "id": "6ab3b80c",
   "metadata": {},
   "source": []
  },
  {
   "cell_type": "markdown",
   "id": "a5ca3aab",
   "metadata": {},
   "source": [
    "QUESTION 2:"
   ]
  },
  {
   "cell_type": "markdown",
   "id": "4cbcc69d",
   "metadata": {},
   "source": [
    "Medium 3 \n",
    "\n",
    "Constraints:\n",
    "m == matrix.length\n",
    "n == matrix[i].length\n",
    "1 <= m, n <= 300\n",
    "matrix[i][j] is '0' or '1'.\n",
    "\n",
    "Given an m x n binary matrix filled with 0's and 1's, find the largest square containing only 1's and return its area.\n",
    "\n",
    "Example 1:\n",
    "Input: matrix = [[\"0\"]]\n",
    "Output: 0\n",
    "    \n",
    "Example 2:\n",
    "Input: matrix = [[\"0\",\"1\"],[\"1\",\"0\"]]\n",
    "Output: 1\n",
    "\n",
    "Example 3:\n",
    "Input: matrix = [[\"1\",\"0\",\"1\",\"0\",\"0\"],[\"1\",\"0\",\"1\",\"1\",\"1\"],[\"1\",\"1\",\"1\",\"1\",\"1\"],[\"1\",\"0\",\"0\",\"1\",\"0\"]]\n",
    "Output: 4\n",
    "\n"
   ]
  },
  {
   "cell_type": "markdown",
   "id": "4a005dc7",
   "metadata": {},
   "source": [
    "PYTHON CODE:"
   ]
  },
  {
   "cell_type": "code",
   "execution_count": null,
   "id": "d70274a6",
   "metadata": {},
   "outputs": [],
   "source": [
    "def find(matrix):\n",
    "    if not matrix or not matrix[0]:\n",
    "        return 0\n",
    "\n",
    "    m, n = len(matrix), len(matrix[0])\n",
    "    dp = [[0] * (n + 1) for _ in range(m + 1)]\n",
    "    max_side = 0\n",
    "\n",
    "    for i in range(1, m + 1):\n",
    "        for j in range(1, n + 1):\n",
    "            if matrix[i - 1][j - 1] == \"1\":\n",
    "                dp[i][j] = min(dp[i - 1][j - 1], dp[i - 1][j], dp[i][j - 1]) + 1\n",
    "                max_side = max(max_side, dp[i][j])\n",
    "\n",
    "    return max_side ** 2"
   ]
  },
  {
   "cell_type": "markdown",
   "id": "70cbc63b",
   "metadata": {},
   "source": [
    "LOGIC AND ALGORITHM:"
   ]
  },
  {
   "cell_type": "markdown",
   "id": "04b2ed44",
   "metadata": {},
   "source": [
    "1. Starting Point:\n",
    "  You have a grid of 1s and 0s representing a matrix.\n",
    "\n",
    "2. Checking Matrix:\n",
    "  First, it ensures the matrix exists and isn't empty.\n",
    "\n",
    "3. Dynamic Programming Array:\n",
    "  Creates an extra grid (DP array) that's a bit larger than the original matrix and fills it with zeros.\n",
    "\n",
    "4. Traversing the Matrix:\n",
    "  Goes through each cell of the matrix (starting from index 1, not 0).\n",
    "\n",
    "5. For Each '1' Cell:\n",
    "  If the cell contains '1', it tries to form a square using this cell as the bottom-right corner.\n",
    " \n",
    "  Looks at the nearby cells (above, left, and diagonally top-left), checks their values, and calculates a potential square size     at the current cell.\n",
    "\n",
    "6. Determining Square Size:\n",
    "  Increases this potential square size by 1 to represent the current cell's square size, ensuring the square can be formed.\n",
    "  \n",
    "7. Tracking Maximum Side:\n",
    "  Keeps track of the largest square's side encountered while traversing.\n",
    "\n",
    "8. Return:\n",
    "  Finally, it returns the area (size) of the largest square found by squaring the value of the maximum side. This represents     the largest square area in the matrix consisting of '1's."
   ]
  },
  {
   "cell_type": "markdown",
   "id": "12c10c5f",
   "metadata": {},
   "source": []
  },
  {
   "cell_type": "markdown",
   "id": "2ffd58cd",
   "metadata": {},
   "source": [
    "QUESTION 3:"
   ]
  },
  {
   "cell_type": "markdown",
   "id": "0a734864",
   "metadata": {},
   "source": [
    "Hard 2 \n",
    "\n",
    "You are given a string s. You can convert s to a \n",
    "palindrome by adding characters in front of it.\n",
    "Return the shortest palindrome you can find by performing this transformation.\n",
    " \n",
    "Example 1:\n",
    "Input: s = \"aacecaaa\"\n",
    "Output: \"aaacecaaa\"\n",
    "\n",
    "Example 2:\n",
    "Input: s = \"abcd\"\n",
    "Output: \"dcbabcd\"\n",
    " \n",
    "Constraints:\n",
    "0 <= s.length <= 5 * 104\n",
    "s consists of lowercase English letters only."
   ]
  },
  {
   "cell_type": "markdown",
   "id": "778266bf",
   "metadata": {},
   "source": [
    "PYTHON CODE:"
   ]
  },
  {
   "cell_type": "code",
   "execution_count": null,
   "id": "c7bb5578",
   "metadata": {},
   "outputs": [],
   "source": [
    "def shortestPalindrome(s):\n",
    "    if not s:\n",
    "        return \"\"\n",
    "\n",
    "    rev_s = s[::-1]\n",
    "    concat_str = s + \"#\" + rev_s\n",
    "\n",
    "    # Construct the KMP table\n",
    "    kmp_table = [0] * len(concat_str)\n",
    "    j = 0\n",
    "\n",
    "    for i in range(1, len(concat_str)):\n",
    "        while j > 0 and concat_str[i] != concat_str[j]:\n",
    "            j = kmp_table[j - 1]\n",
    "\n",
    "        if concat_str[i] == concat_str[j]:\n",
    "            j += 1\n",
    "\n",
    "        kmp_table[i] = j\n",
    "\n",
    "    return rev_s[:len(s) - kmp_table[-1]] + s\n",
    "\n",
    "\n",
    "s = input()\n",
    "print(shortestPalindrome(s))"
   ]
  },
  {
   "cell_type": "markdown",
   "id": "2ad058a3",
   "metadata": {},
   "source": [
    "LOGIC AND ALGORITHM:"
   ]
  },
  {
   "cell_type": "markdown",
   "id": "680e4b1a",
   "metadata": {},
   "source": [
    "1. Prepare for the Palindrome:\n",
    " First, get the letters or a word.\n",
    "\n",
    "2. Reverse and Combine:\n",
    " Write these letters backward and join them with the original letters using a special mark (#), making a long mixed-up string.\n",
    "\n",
    "3. Creating a Secret Table:\n",
    " Make a table to help us understand if there are any repeating patterns in this mixed-up string.\n",
    "\n",
    "4. Magic Tablework:\n",
    " Look at each letter in this mixed-up string.\n",
    "\n",
    " If there Is a pattern, mark it down in the table.\n",
    "\n",
    "5. Building the Shortest Palindrome:\n",
    " Use this table to figure out how many letters to add at the start of the original word.\n",
    "\n",
    " Grab these letters from the backward version and put them at the beginning of the original word.\n",
    "\n",
    "6. Show Off the Result:\n",
    " Present this special word (a palindrome) made by adding letters to the start of the original word."
   ]
  }
 ],
 "metadata": {
  "kernelspec": {
   "display_name": "Python 3 (ipykernel)",
   "language": "python",
   "name": "python3"
  },
  "language_info": {
   "codemirror_mode": {
    "name": "ipython",
    "version": 3
   },
   "file_extension": ".py",
   "mimetype": "text/x-python",
   "name": "python",
   "nbconvert_exporter": "python",
   "pygments_lexer": "ipython3",
   "version": "3.11.3"
  }
 },
 "nbformat": 4,
 "nbformat_minor": 5
}
